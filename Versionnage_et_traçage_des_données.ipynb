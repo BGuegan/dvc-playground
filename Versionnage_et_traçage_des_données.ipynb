{
 "cells": [
  {
   "cell_type": "markdown",
   "metadata": {
    "id": "Vg1CTCPkX9kL"
   },
   "source": [
    "# Versionnage et traçage des données"
   ]
  },
  {
   "cell_type": "markdown",
   "metadata": {
    "id": "qE2If-s9dCJ9"
   },
   "source": [
    "Nous allons étudier dans ces travaux pratiques comment versionner ses données et conserver des informations d'origine à l'aide de l'outil DVC.\n",
    "\n",
    "Cet outil découple le versionnage des données et leur stockage."
   ]
  },
  {
   "cell_type": "markdown",
   "metadata": {},
   "source": [
    "## Notes sur l'environnement CodeSpace"
   ]
  },
  {
   "cell_type": "markdown",
   "metadata": {},
   "source": [
    "Vous pouvez exécuter des commandes dans le terminal directement ou dans les cellules de code de ce notebook. Dans ce cas, elles doivent préfixées d'un `!`, elles seraient sinon interprétées comme du Python.\n",
    "\n",
    "Par ailleurs, si vous avez besoin de copier-coller quelque chose dans le terminal, il faut utiliser ctrl-maj-v et non pas ctrl-v."
   ]
  },
  {
   "cell_type": "markdown",
   "metadata": {
    "id": "08efg2guY_Pq"
   },
   "source": [
    "## Création du dépôt DagsHub"
   ]
  },
  {
   "cell_type": "markdown",
   "metadata": {
    "id": "b2V6Q31DA89q"
   },
   "source": [
    "Créez un compte sur [GitHub](https://github.com) et [DagsHub](https://dagshub.com/) si nécessaire, puis&nbsp;:\n",
    "\n",
    "Créez ensuite un dépôt vierge sur DagsHub. Une fois le dépôt créé, récupérez votre clef d'accès secrète en cliquant sur «&nbsp;*Get started with Data*&nbsp;» et en la copiant-collant depuis la section «&nbsp;*Connection credentials*&nbsp;».\n",
    "\n",
    "Remplissez les variables `owner`, `repo` & `token` avec respectivement votre nom d'utilisateur DagsHub, votre nom de dépôt git et votre clef d'accès secrète."
   ]
  },
  {
   "cell_type": "code",
   "execution_count": 8,
   "metadata": {
    "id": "3MqlhwlJA8Dq"
   },
   "outputs": [],
   "source": [
    "owner = \"BGuegan\"\n",
    "repo = \"my-first-repo\"\n",
    "token = \"fba50dc25afd8c819c9c66127576a8313ce524af\""
   ]
  },
  {
   "cell_type": "markdown",
   "metadata": {
    "id": "ITaTCX6CCJzS"
   },
   "source": [
    "Exécutez maintenant la cellule ci-dessous pour créer une branche distante pointant vers votre dépôt DagsHub (ce qui nous permettra de publier les changements produits pendant ces travaux pratiques pour simuler une tâche réelle)."
   ]
  },
  {
   "cell_type": "code",
   "execution_count": 7,
   "metadata": {
    "id": "J6w8PaooZB0e"
   },
   "outputs": [
    {
     "name": "stdout",
     "output_type": "stream",
     "text": [
      "error: remote dagshub already exists.\n"
     ]
    }
   ],
   "source": [
    "!git remote add dagshub https://{token}@dagshub.com/{owner}/{repo}.git"
   ]
  },
  {
   "cell_type": "markdown",
   "metadata": {
    "id": "M-QLZ-ZAZDCA"
   },
   "source": [
    "## Initialisation du dépôt DVC"
   ]
  },
  {
   "cell_type": "markdown",
   "metadata": {},
   "source": [
    "Dans le terminal, lancez une commande pour initialiser un dépôt DVC puis publiez les changements sur votre dépôt DagsHub."
   ]
  },
  {
   "cell_type": "markdown",
   "metadata": {
    "id": "GKQYQ1EBZNh-"
   },
   "source": [
    "### Solution"
   ]
  },
  {
   "cell_type": "code",
   "execution_count": 5,
   "metadata": {
    "id": "ba7OrGzlZOik"
   },
   "outputs": [
    {
     "name": "stdout",
     "output_type": "stream",
     "text": [
      "\u001b[31mERROR\u001b[39m: failed to initiate DVC - '.dvc' exists. Use `-f` to force.\n",
      "\u001b[0m"
     ]
    }
   ],
   "source": [
    "!dvc init"
   ]
  },
  {
   "cell_type": "code",
   "execution_count": 15,
   "metadata": {
    "id": "hPHDOncGDeeW"
   },
   "outputs": [
    {
     "name": "stdout",
     "output_type": "stream",
     "text": [
      "On branch main\n",
      "Your branch is ahead of 'dagshub/main' by 1 commit.\n",
      "  (use \"git push\" to publish your local commits)\n",
      "\n",
      "Changes not staged for commit:\n",
      "  (use \"git add <file>...\" to update what will be committed)\n",
      "  (use \"git restore <file>...\" to discard changes in working directory)\n",
      "\t\u001b[31mmodified:   \"Versionnage_et_tra\\303\\247age_des_donn\\303\\251es.ipynb\"\u001b[m\n",
      "\n",
      "no changes added to commit (use \"git add\" and/or \"git commit -a\")\n"
     ]
    }
   ],
   "source": [
    "!git commit -m \"Initialisation de DVC\""
   ]
  },
  {
   "cell_type": "code",
   "execution_count": 25,
   "metadata": {
    "id": "g0n3jPaNDg64"
   },
   "outputs": [
    {
     "name": "stdout",
     "output_type": "stream",
     "text": [
      "branch 'main' set up to track 'dagshub/main'.\n",
      "Everything up-to-date\n"
     ]
    }
   ],
   "source": [
    "!git push -u dagshub main"
   ]
  },
  {
   "cell_type": "markdown",
   "metadata": {
    "id": "G_GYBzhwX_eX"
   },
   "source": [
    "## Récupération d'une première version des données"
   ]
  },
  {
   "cell_type": "markdown",
   "metadata": {
    "id": "UHgL_k5kZ8ij"
   },
   "source": [
    "Il y a plusieurs manières d'importer une source de données dans DVC. L'une d'entre elles est d'utiliser deux commandes&nbsp;: [`dvc get`](https://dvc.org/doc/command-reference/get) d'abord, qui récupère des données depuis un dépôt git/DVC, puis [`dvc add`](https://dvc.org/doc/command-reference/add) qui ajoute les données aux données gérées par DVC.\n",
    "\n",
    "Après avoir consulté leur aide, utilisez ces deux commandes pour importer le fichier `wiki_movie_plots_deduped.csv` du dépôt git `https://github.com/m09/dataset-wikipedia-movie-plots/` sous le nom `data.csv`."
   ]
  },
  {
   "cell_type": "markdown",
   "metadata": {
    "id": "nrnFxEF1aqrz"
   },
   "source": [
    "DVC utilise un dossier de cache qui contient (la plupart du temps) les données utilisées par le projet. Que constatez-vous en observant ce dossier&nbsp;?\n",
    "\n",
    "N'hésitez pas à observer les fichiers d'extension `.dvc`."
   ]
  },
  {
   "cell_type": "markdown",
   "metadata": {
    "id": "NTKmn4BMaZiv"
   },
   "source": [
    "### Solution"
   ]
  },
  {
   "cell_type": "code",
   "execution_count": 10,
   "metadata": {
    "id": "UALHRpnoX0wJ"
   },
   "outputs": [
    {
     "name": "stdout",
     "output_type": "stream",
     "text": [
      "\u001b[0m                                                                            "
     ]
    }
   ],
   "source": [
    "!dvc get https://github.com/m09/dataset-wikipedia-movie-plots wiki_movie_plots_deduped.csv -o data.csv"
   ]
  },
  {
   "cell_type": "code",
   "execution_count": 11,
   "metadata": {
    "id": "tYuKjG_Dhx17"
   },
   "outputs": [
    {
     "name": "stdout",
     "output_type": "stream",
     "text": [
      "\u001b[?25l\u001b[32m⠋\u001b[0m Checking graph                                       core\u001b[39m>\n",
      "Adding...                                                                       \n",
      "!\u001b[A\n",
      "Collecting files and computing hashes in data.csv     |0.00 [00:00,     ?file/s]\u001b[A\n",
      "                                                                                \u001b[A\n",
      "!\u001b[A\n",
      "  0% Checking cache in '/workspaces/dvc-playground/.dvc/cache/files/md5'| |0/? [\u001b[A\n",
      "                                                                                \u001b[A\n",
      "!\u001b[A\n",
      "  0%|          |Adding data.csv to cache              0/1 [00:00<?,     ?file/s]\u001b[A\n",
      "                                                                                \u001b[A\n",
      "!\u001b[A\n",
      "  0%|          |Checking out /workspaces/dvc-playgroun0/1 [00:00<?,    ?files/s]\u001b[A\n",
      "100% Adding...|████████████████████████████████████████|1/1 [00:00,  1.98file/s]\u001b[A\n",
      "\n",
      "To track the changes with git, run:\n",
      "\n",
      "\tgit add data.csv.dvc .gitignore\n",
      "\n",
      "To enable auto staging, run:\n",
      "\n",
      "\tdvc config core.autostage true\n",
      "\u001b[0m"
     ]
    }
   ],
   "source": [
    "!dvc add data.csv"
   ]
  },
  {
   "cell_type": "markdown",
   "metadata": {
    "id": "EJJmt0vBa5Mu"
   },
   "source": [
    "## Ajout du fichier à un commit git"
   ]
  },
  {
   "cell_type": "markdown",
   "metadata": {
    "id": "VnI_UNLoa_KZ"
   },
   "source": [
    "Commitez maintenant ce fichier en suivant les recommandations de DVC données en sortie de la commande `dvc add`, puis publiez ces changements sur DagsHub."
   ]
  },
  {
   "cell_type": "markdown",
   "metadata": {
    "id": "nh1UrulmbRl4"
   },
   "source": [
    "### Solution"
   ]
  },
  {
   "cell_type": "code",
   "execution_count": 21,
   "metadata": {
    "id": "YZFqN77lbTKm"
   },
   "outputs": [],
   "source": [
    "!git add .gitignore data.csv.dvc"
   ]
  },
  {
   "cell_type": "code",
   "execution_count": 26,
   "metadata": {
    "id": "lKVrXRcTbY-D"
   },
   "outputs": [
    {
     "name": "stdout",
     "output_type": "stream",
     "text": [
      "On branch main\n",
      "Your branch is up to date with 'dagshub/main'.\n",
      "\n",
      "Changes not staged for commit:\n",
      "  (use \"git add <file>...\" to update what will be committed)\n",
      "  (use \"git restore <file>...\" to discard changes in working directory)\n",
      "\t\u001b[31mmodified:   \"Versionnage_et_tra\\303\\247age_des_donn\\303\\251es.ipynb\"\u001b[m\n",
      "\n",
      "no changes added to commit (use \"git add\" and/or \"git commit -a\")\n"
     ]
    }
   ],
   "source": [
    "!git commit -m \"Ajout d'une première version des données\""
   ]
  },
  {
   "cell_type": "code",
   "execution_count": 23,
   "metadata": {
    "id": "ta3gHtVZEGC5"
   },
   "outputs": [
    {
     "name": "stdout",
     "output_type": "stream",
     "text": [
      "fatal: tag 'v1' already exists\n"
     ]
    }
   ],
   "source": [
    "!git tag \"v1\""
   ]
  },
  {
   "cell_type": "code",
   "execution_count": 24,
   "metadata": {
    "id": "UkX-F_BeEJht"
   },
   "outputs": [
    {
     "name": "stdout",
     "output_type": "stream",
     "text": [
      "remote: Permission to shuuchuu/dvc-playground.git denied to BGuegan.\n",
      "fatal: unable to access 'https://github.com/shuuchuu/dvc-playground/': The requested URL returned error: 403\n"
     ]
    }
   ],
   "source": [
    "!git push origin main v1"
   ]
  },
  {
   "cell_type": "markdown",
   "metadata": {
    "id": "qi17BSL9t0me"
   },
   "source": [
    "## Configuration d'un serveur de stockage"
   ]
  },
  {
   "cell_type": "markdown",
   "metadata": {
    "id": "Ajv6YjOQt3qY"
   },
   "source": [
    "DVC peut stocker les données dans divers types de serveurs. DagsHub met à disposition un espace de stockage qui s'utilise comme un bucket s3 (solution de stockage du cloud amazon).\n",
    "\n",
    "Configurez ce serveur en suivant les instructions disponibles dans l'onglet « *Data* » du bouton vert « *Remote* » de votre dépôt DagsHub puis publiez-y vos données."
   ]
  },
  {
   "cell_type": "markdown",
   "metadata": {
    "id": "RAbA-LjPuMwo"
   },
   "source": [
    "### Solution"
   ]
  },
  {
   "cell_type": "code",
   "execution_count": 27,
   "metadata": {
    "id": "kExMRm7MqYds"
   },
   "outputs": [
    {
     "name": "stdout",
     "output_type": "stream",
     "text": [
      "\u001b[0m\u001b[0m\u001b[0m\u001b[0m"
     ]
    }
   ],
   "source": [
    "!dvc remote add origin s3://dvc\n",
    "!dvc remote modify origin endpointurl https://dagshub.com/{owner}/{repo}.s3\n",
    "!dvc remote modify origin --local access_key_id {token}\n",
    "!dvc remote modify origin --local secret_access_key {token}"
   ]
  },
  {
   "cell_type": "code",
   "execution_count": 28,
   "metadata": {
    "id": "f_Iwi3h7qYyV"
   },
   "outputs": [
    {
     "name": "stdout",
     "output_type": "stream",
     "text": [
      "Collecting                                            |1.00 [00:00,  282entry/s]\n",
      "Pushing\n",
      "!\u001b[A\n",
      "  0% Checking cache in 'dvc/files/md5'|              |0/? [00:00<?,    ?files/s]\u001b[A\n",
      "                                                                                \u001b[A\n",
      "!\u001b[A\n",
      "  0% Checking cache in '/workspaces/dvc-playground/.dvc/cache/files/md5'| |0/? [\u001b[A\n",
      "                                                                                \u001b[A\n",
      "!\u001b[A\n",
      "  0%|          |Pushing to s3                         0/1 [00:00<?,     ?file/s]\u001b[A\n",
      "  0%|          |Pushing to s3                         0/1 [00:00<?,     ?file/s]\u001b[A\n",
      "\n",
      "!\u001b[A\u001b[A\n",
      "\n",
      "  0%|          |/workspaces/dvc-playground/.dvc0.00/77.4M [00:00<?,        ?B/s]\u001b[A\u001b[A\n",
      "\n",
      "100%|██████████|/workspaces/dvc-playground77.4M/77.4M [00:04<00:00,    19.6MB/s]\u001b[A\u001b[A\n",
      "\n",
      "                                                                                \u001b[A\u001b[A\n",
      "100%|██████████|Pushing to s3                     1/1 [00:04<00:00,  4.15s/file]\u001b[A\n",
      "Pushing                                                                         \u001b[A\n",
      "1 file pushed\n",
      "\u001b[0m"
     ]
    }
   ],
   "source": [
    "!dvc push -r origin"
   ]
  },
  {
   "cell_type": "markdown",
   "metadata": {
    "id": "McPc4aDSedLY"
   },
   "source": [
    "## Modification des données"
   ]
  },
  {
   "cell_type": "markdown",
   "metadata": {
    "id": "tFzQqwnZf-MM"
   },
   "source": [
    "Exécutez les cellules suivantes pour modifier le fichier de données&nbsp;:"
   ]
  },
  {
   "cell_type": "code",
   "execution_count": 29,
   "metadata": {
    "id": "-GgkcTxiecVI"
   },
   "outputs": [
    {
     "name": "stdout",
     "output_type": "stream",
     "text": [
      "\u001b[0m                                                                            "
     ]
    }
   ],
   "source": [
    "!sort -r < data.csv > a && dvc remove data.csv.dvc && mv a data.csv"
   ]
  },
  {
   "cell_type": "markdown",
   "metadata": {
    "id": "6t6cfNRNgD8B"
   },
   "source": [
    "Utilisez maintenant `dvc add` & `git add` pour enregistrer ce changement."
   ]
  },
  {
   "cell_type": "markdown",
   "metadata": {
    "id": "66Z-jANXg8Ta"
   },
   "source": [
    "### Solution"
   ]
  },
  {
   "cell_type": "code",
   "execution_count": 30,
   "metadata": {
    "id": "1YhBWWzGfyTo"
   },
   "outputs": [
    {
     "name": "stdout",
     "output_type": "stream",
     "text": [
      "\u001b[?25l\u001b[32m⠋\u001b[0m Checking graph                                       core\u001b[39m>\n",
      "Adding...                                                                       \n",
      "!\u001b[A\n",
      "Collecting files and computing hashes in data.csv     |0.00 [00:00,     ?file/s]\u001b[A\n",
      "                                                                                \u001b[A\n",
      "!\u001b[A\n",
      "  0% Checking cache in '/workspaces/dvc-playground/.dvc/cache/files/md5'| |0/? [\u001b[A\n",
      "                                                                                \u001b[A\n",
      "!\u001b[A\n",
      "  0%|          |Adding data.csv to cache              0/1 [00:00<?,     ?file/s]\u001b[A\n",
      "                                                                                \u001b[A\n",
      "!\u001b[A\n",
      "  0%|          |Checking out /workspaces/dvc-playgroun0/1 [00:00<?,    ?files/s]\u001b[A\n",
      "100%|██████████|Checking out /workspaces/dvc-play1/1 [00:00<00:00,  8.42files/s]\u001b[A\n",
      "100% Adding...|████████████████████████████████████████|1/1 [00:00,  2.84file/s]\u001b[A\n",
      "\n",
      "To track the changes with git, run:\n",
      "\n",
      "\tgit add .gitignore data.csv.dvc\n",
      "\n",
      "To enable auto staging, run:\n",
      "\n",
      "\tdvc config core.autostage true\n",
      "\u001b[0m"
     ]
    }
   ],
   "source": [
    "!dvc add data.csv"
   ]
  },
  {
   "cell_type": "code",
   "execution_count": 36,
   "metadata": {
    "id": "HmaARXFvgMdo"
   },
   "outputs": [],
   "source": [
    "!git add data.csv.dvc .gitignore"
   ]
  },
  {
   "cell_type": "code",
   "execution_count": 37,
   "metadata": {
    "id": "TkR6jp32gQmW"
   },
   "outputs": [
    {
     "name": "stdout",
     "output_type": "stream",
     "text": [
      "On branch main\n",
      "Your branch is ahead of 'dagshub/main' by 1 commit.\n",
      "  (use \"git push\" to publish your local commits)\n",
      "\n",
      "Changes not staged for commit:\n",
      "  (use \"git add <file>...\" to update what will be committed)\n",
      "  (use \"git restore <file>...\" to discard changes in working directory)\n",
      "\t\u001b[31mmodified:   .dvc/config\u001b[m\n",
      "\t\u001b[31mmodified:   \"Versionnage_et_tra\\303\\247age_des_donn\\303\\251es.ipynb\"\u001b[m\n",
      "\n",
      "no changes added to commit (use \"git add\" and/or \"git commit -a\")\n"
     ]
    },
    {
     "name": "stdout",
     "output_type": "stream",
     "text": [
      "fatal: tag 'v2' already exists\n"
     ]
    }
   ],
   "source": [
    "!git commit -m \"Données v2\"\n",
    "!git tag \"v2\""
   ]
  },
  {
   "cell_type": "code",
   "execution_count": 39,
   "metadata": {
    "id": "RwpawVAZGKJq"
   },
   "outputs": [
    {
     "name": "stdout",
     "output_type": "stream",
     "text": [
      "remote: Permission to shuuchuu/dvc-playground.git denied to BGuegan.\n",
      "fatal: unable to access 'https://github.com/shuuchuu/dvc-playground/': The requested URL returned error: 403\n"
     ]
    }
   ],
   "source": [
    "!git push origin main v2"
   ]
  },
  {
   "cell_type": "code",
   "execution_count": 35,
   "metadata": {
    "id": "ok4QDZMbqBzU"
   },
   "outputs": [
    {
     "name": "stdout",
     "output_type": "stream",
     "text": [
      "Collecting                                            |1.00 [00:00,  300entry/s]\n",
      "Pushing\n",
      "!\u001b[A\n",
      "  0% Checking cache in 'dvc/files/md5'|              |0/? [00:00<?,    ?files/s]\u001b[A\n",
      "                                                                                \u001b[A\n",
      "!\u001b[A\n",
      "  0% Checking cache in '/workspaces/dvc-playground/.dvc/cache/files/md5'| |0/? [\u001b[A\n",
      "                                                                                \u001b[A\n",
      "!\u001b[A\n",
      "  0%|          |Pushing to s3                         0/1 [00:00<?,     ?file/s]\u001b[A\n",
      "  0%|          |Pushing to s3                         0/1 [00:00<?,     ?file/s]\u001b[A\n",
      "\n",
      "!\u001b[A\u001b[A\n",
      "\n",
      "  0%|          |/workspaces/dvc-playground/.dvc0.00/77.4M [00:00<?,        ?B/s]\u001b[A\u001b[A\n",
      "\n",
      "100%|██████████|/workspaces/dvc-playground77.4M/77.4M [00:07<00:00,    11.4MB/s]\u001b[A\u001b[A\n",
      "\n",
      "                                                                                \u001b[A\u001b[A\n",
      "100%|██████████|Pushing to s3                     1/1 [00:07<00:00,  7.10s/file]\u001b[A\n",
      "Pushing                                                                         \u001b[A\n",
      "1 file pushed\n",
      "\u001b[0m"
     ]
    }
   ],
   "source": [
    "!dvc push -r origin"
   ]
  },
  {
   "cell_type": "markdown",
   "metadata": {
    "id": "XZREzbBwcDPD"
   },
   "source": [
    "## Retour aux données originales"
   ]
  },
  {
   "cell_type": "markdown",
   "metadata": {
    "id": "Qti0-4-UgYUL"
   },
   "source": [
    "On imagine avoir détecté un problème avec nos nouvelles données&nbsp;: on souhaite revenir à la première version. Utilisez `git checkout` pour revenir à la version antérieure des métadonnées, puis `dvc checkout` pour récupérer le fichier correspondant."
   ]
  },
  {
   "cell_type": "markdown",
   "metadata": {
    "id": "00SZSR8shOhF"
   },
   "source": [
    "Commitez maintenant ce retour à la première version."
   ]
  },
  {
   "cell_type": "markdown",
   "metadata": {
    "id": "XF4zENvyhb9f"
   },
   "source": [
    "### Solution"
   ]
  },
  {
   "cell_type": "code",
   "execution_count": null,
   "metadata": {
    "id": "HdnFdhhXhCRk"
   },
   "outputs": [],
   "source": [
    "!git checkout v1 data.csv.dvc"
   ]
  },
  {
   "cell_type": "code",
   "execution_count": 40,
   "metadata": {
    "id": "WLo_YtswhIVn"
   },
   "outputs": [
    {
     "name": "stdout",
     "output_type": "stream",
     "text": [
      "Building workspace index                              |1.00 [00:00,  118entry/s]\n",
      "Comparing indexes                                    |2.00 [00:00, 1.68kentry/s]\n",
      "Applying changes                                      |1.00 [00:00,  9.90file/s]\n",
      "\u001b[33mM\u001b[0m       data.csv\n",
      "\u001b[0m"
     ]
    }
   ],
   "source": [
    "!dvc checkout data.csv"
   ]
  },
  {
   "cell_type": "code",
   "execution_count": 41,
   "metadata": {
    "id": "nNISHs4PhSD_"
   },
   "outputs": [],
   "source": [
    "!git add data.csv.dvc"
   ]
  },
  {
   "cell_type": "code",
   "execution_count": null,
   "metadata": {
    "id": "diqCBl1ThVQr"
   },
   "outputs": [
    {
     "name": "stdout",
     "output_type": "stream",
     "text": [
      "You don't have write access to the shuuchuu/dvc-playground repository, so you cannot push changes to it.\n",
      "To obtain write access we will point this codespace at your fork of shuuchuu/dvc-playground, creating that fork if it doesn't exist.\n",
      "\n",
      "Would you like to proceed? "
     ]
    }
   ],
   "source": [
    "!git commit -m \"Retour aux données v1\"\n",
    "!git tag v3"
   ]
  },
  {
   "cell_type": "code",
   "execution_count": null,
   "metadata": {
    "id": "Xv9CPgBnGoil"
   },
   "outputs": [],
   "source": [
    "!git push origin main v3"
   ]
  },
  {
   "cell_type": "code",
   "execution_count": null,
   "metadata": {
    "id": "wuNEG680cKKb"
   },
   "outputs": [],
   "source": [
    "!dvc push -r origin"
   ]
  },
  {
   "cell_type": "markdown",
   "metadata": {
    "id": "tnRAyz2KrjeR"
   },
   "source": [
    "## Traitement des données"
   ]
  },
  {
   "cell_type": "markdown",
   "metadata": {
    "id": "Ozmp64UKrmrz"
   },
   "source": [
    "Exécutez la cellule suivante qui contient un script Python qui prend deux arguments, et qui écrit au chemin donné par le deuxième argument le contenu du fichier au chemin donné par le premier argument, en passant le contenu en majuscule.\n",
    "\n",
    "Cette cellule va écrire ce script au chemin `upper.py`"
   ]
  },
  {
   "cell_type": "code",
   "execution_count": 1,
   "metadata": {
    "id": "aiz_iLLHrlHK"
   },
   "outputs": [
    {
     "name": "stdout",
     "output_type": "stream",
     "text": [
      "Writing upper.py\n"
     ]
    }
   ],
   "source": [
    "%%writefile upper.py\n",
    "from pathlib import Path\n",
    "from sys import argv\n",
    "\n",
    "Path(argv[2]).write_text(\n",
    "    Path(argv[1]).read_text(encoding=\"utf8\").upper(),\n",
    "    encoding=\"utf8\")"
   ]
  },
  {
   "cell_type": "markdown",
   "metadata": {
    "id": "pt7XTAR_s2Q3"
   },
   "source": [
    "Ajoutez une étape de traitement avec [`dvc stage add`](https://dvc.org/doc/command-reference/stage/add) qui prend en entrée le fichier `data.csv` et produit le fichier `data-upper.csv` à partir de ce script."
   ]
  },
  {
   "cell_type": "markdown",
   "metadata": {
    "id": "INjiLN-utXEp"
   },
   "source": [
    "Exécutez maintenant cette étape de traitement avec [`dvc repro`](https://dvc.org/doc/command-reference/repro) puis sauvegardez les données dans le serveur de stockage et les métadonnées dans git."
   ]
  },
  {
   "cell_type": "markdown",
   "metadata": {
    "id": "mfV0_haAtC0X"
   },
   "source": [
    "### Solution"
   ]
  },
  {
   "cell_type": "code",
   "execution_count": null,
   "metadata": {
    "id": "wSZ42IGTsOOT"
   },
   "outputs": [],
   "source": [
    "!dvc stage add -n transform-uppercase -d data.csv -o data-upper.csv python upper.py data.csv data-upper.csv"
   ]
  },
  {
   "cell_type": "code",
   "execution_count": null,
   "metadata": {
    "id": "F3QYKFxisb2Y"
   },
   "outputs": [],
   "source": [
    "!dvc repro"
   ]
  },
  {
   "cell_type": "code",
   "execution_count": null,
   "metadata": {
    "id": "yVbo2ZLWtHyi"
   },
   "outputs": [],
   "source": [
    "!git add dvc.yaml .gitignore dvc.lock"
   ]
  },
  {
   "cell_type": "code",
   "execution_count": null,
   "metadata": {
    "id": "_vxDoOgRG1Zb"
   },
   "outputs": [],
   "source": [
    "!git commit -m \"Pipeline pour passer un fichier en majuscule\""
   ]
  },
  {
   "cell_type": "code",
   "execution_count": null,
   "metadata": {
    "id": "6G9--vWpG9U9"
   },
   "outputs": [],
   "source": [
    "!git push origin main"
   ]
  },
  {
   "cell_type": "code",
   "execution_count": null,
   "metadata": {
    "id": "1OEEoFyHtRoA"
   },
   "outputs": [],
   "source": [
    "!dvc push -r origin"
   ]
  }
 ],
 "metadata": {
  "colab": {
   "collapsed_sections": [
    "GKQYQ1EBZNh-",
    "NTKmn4BMaZiv",
    "nh1UrulmbRl4",
    "RAbA-LjPuMwo",
    "66Z-jANXg8Ta",
    "XF4zENvyhb9f",
    "mfV0_haAtC0X"
   ],
   "private_outputs": true,
   "provenance": []
  },
  "kernelspec": {
   "display_name": ".venv",
   "language": "python",
   "name": "python3"
  },
  "language_info": {
   "codemirror_mode": {
    "name": "ipython",
    "version": 3
   },
   "file_extension": ".py",
   "mimetype": "text/x-python",
   "name": "python",
   "nbconvert_exporter": "python",
   "pygments_lexer": "ipython3",
   "version": "3.12.7"
  }
 },
 "nbformat": 4,
 "nbformat_minor": 0
}
